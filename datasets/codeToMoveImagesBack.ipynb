{
 "cells": [
  {
   "cell_type": "code",
   "execution_count": 1,
   "metadata": {},
   "outputs": [],
   "source": [
    "import os\n",
    "import shutil"
   ]
  },
  {
   "cell_type": "code",
   "execution_count": 2,
   "metadata": {},
   "outputs": [],
   "source": [
    "# Define the incorrect paths\n",
    "wrong_train_path = \"dataset/train/train/\"\n",
    "wrong_test_path = \"dataset/train/test/\"\n",
    "\n",
    "# Define the correct paths\n",
    "correct_train_path = \"dataset/train/\"\n",
    "correct_test_path = \"dataset/train/\""
   ]
  },
  {
   "cell_type": "code",
   "execution_count": 3,
   "metadata": {},
   "outputs": [],
   "source": [
    "def move_files(src_folder, dest_folder):\n",
    "    if not os.path.exists(src_folder):\n",
    "        print(f\"❌ {src_folder} does not exist. Skipping...\")\n",
    "        return\n",
    "\n",
    "    for class_name in os.listdir(src_folder):\n",
    "        src_class_folder = os.path.join(src_folder, class_name)\n",
    "        dest_class_folder = os.path.join(dest_folder, class_name)\n",
    "\n",
    "        if os.path.isdir(src_class_folder):\n",
    "            os.makedirs(\n",
    "                dest_class_folder, exist_ok=True\n",
    "            )  # Ensure the correct folder exists\n",
    "\n",
    "            for file in os.listdir(src_class_folder):\n",
    "                src_file_path = os.path.join(src_class_folder, file)\n",
    "                dest_file_path = os.path.join(dest_class_folder, file)\n",
    "                shutil.move(src_file_path, dest_file_path)\n",
    "\n",
    "            # Remove the now-empty class folder\n",
    "            os.rmdir(src_class_folder)"
   ]
  },
  {
   "cell_type": "code",
   "execution_count": 4,
   "metadata": {},
   "outputs": [
    {
     "name": "stdout",
     "output_type": "stream",
     "text": [
      "✅ Fixed folder structure! Your dataset is now correctly organized.\n"
     ]
    }
   ],
   "source": [
    "move_files(wrong_train_path, correct_train_path)\n",
    "move_files(wrong_test_path, correct_test_path)\n",
    "\n",
    "# Remove the now-empty wrong folders\n",
    "if os.path.exists(wrong_train_path):\n",
    "    os.rmdir(wrong_train_path)\n",
    "if os.path.exists(wrong_test_path):\n",
    "    os.rmdir(wrong_test_path)\n",
    "\n",
    "print(\"✅ Fixed folder structure! Your dataset is now correctly organized.\")"
   ]
  }
 ],
 "metadata": {
  "kernelspec": {
   "display_name": "base",
   "language": "python",
   "name": "python3"
  },
  "language_info": {
   "codemirror_mode": {
    "name": "ipython",
    "version": 3
   },
   "file_extension": ".py",
   "mimetype": "text/x-python",
   "name": "python",
   "nbconvert_exporter": "python",
   "pygments_lexer": "ipython3",
   "version": "3.12.7"
  }
 },
 "nbformat": 4,
 "nbformat_minor": 2
}
