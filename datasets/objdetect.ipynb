{
 "cells": [
  {
   "cell_type": "code",
   "execution_count": 50,
   "metadata": {},
   "outputs": [],
   "source": [
    "import os\n",
    "import numpy as np\n",
    "import pandas as pd\n",
    "import seaborn as sns\n",
    "import matplotlib.pyplot as plt\n",
    "from matplotlib.colors import LinearSegmentedColormap\n",
    "from PIL import Image\n",
    "from sklearn.model_selection import train_test_split\n",
    "from sklearn.utils.class_weight import compute_class_weight\n",
    "from tensorflow.keras.preprocessing.image import ImageDataGenerator\n",
    "from keras.layers import (\n",
    "    Input,\n",
    "    Activation,\n",
    "    Add,\n",
    "    Dense,\n",
    "    Conv2D,\n",
    "    GlobalAveragePooling2D,\n",
    "    MaxPooling2D,\n",
    ")\n",
    "from keras.layers import BatchNormalization, Dropout\n",
    "from tensorflow.keras.applications import ResNet50\n",
    "from tensorflow.keras.applications.resnet50 import preprocess_input\n",
    "from tensorflow.keras.optimizers import Adam\n",
    "from keras.callbacks import ReduceLROnPlateau, EarlyStopping\n",
    "from keras.models import Model\n",
    "from keras.utils import plot_model\n",
    "from sklearn.metrics import classification_report, confusion_matrix"
   ]
  },
  {
   "cell_type": "code",
   "execution_count": 51,
   "metadata": {},
   "outputs": [],
   "source": [
    "test_dir = \"dataset/test\"\n",
    "train_dir = \"dataset/train\""
   ]
  },
  {
   "cell_type": "code",
   "execution_count": 52,
   "metadata": {},
   "outputs": [
    {
     "name": "stdout",
     "output_type": "stream",
     "text": [
      "['battery', 'biological', 'cardboard', 'clothes', 'glass', 'metal', 'paper', 'plastic', 'shoes', 'trash']\n",
      "['battery', 'biological', 'cardboard', 'clothes', 'glass', 'metal', 'paper', 'plastic', 'shoes', 'trash']\n"
     ]
    }
   ],
   "source": [
    "print(os.listdir(test_dir))\n",
    "print(os.listdir(train_dir))"
   ]
  },
  {
   "cell_type": "code",
   "execution_count": 53,
   "metadata": {},
   "outputs": [],
   "source": [
    "train_datagen = ImageDataGenerator(\n",
    "    rescale=1.0 / 255,\n",
    "    rotation_range=30,\n",
    "    width_shift_range=0.25,\n",
    "    height_shift_range=0.25,\n",
    "    shear_range=0.25,\n",
    "    zoom_range=0.25,\n",
    "    horizontal_flip=True,\n",
    "    fill_mode=\"nearest\",\n",
    ")\n",
    "\n",
    "test_datagen = ImageDataGenerator(rescale=1.0 / 255)"
   ]
  },
  {
   "cell_type": "code",
   "execution_count": 54,
   "metadata": {},
   "outputs": [
    {
     "name": "stdout",
     "output_type": "stream",
     "text": [
      "Found 11643 images belonging to 10 classes.\n",
      "Found 4997 images belonging to 10 classes.\n"
     ]
    }
   ],
   "source": [
    "train_generator = train_datagen.flow_from_directory(\n",
    "    train_dir, target_size=(84, 84), batch_size=16, class_mode=\"categorical\"\n",
    ")\n",
    "\n",
    "test_generator = test_datagen.flow_from_directory(\n",
    "    test_dir, target_size=(84, 84), batch_size=16, class_mode=\"categorical\"\n",
    ")"
   ]
  },
  {
   "cell_type": "code",
   "execution_count": 55,
   "metadata": {},
   "outputs": [],
   "source": [
    "def residual_block(X, kernel_size, filters, reduce=False, stride=2):\n",
    "    \"\"\"\n",
    "    Implement a residual block for ResNet architectures.\n",
    "\n",
    "    Arguments:\n",
    "    X           -- input tensor of shape (m, height, width, channels)\n",
    "    kernel_size -- integer, kernel size of the middle convolutional layer in the main path\n",
    "    filters     -- python list of integers, defining the number of filters in the CONV layers of the main path\n",
    "    reduce      -- boolean, whether to reduce the spatial dimensions and increase depth;\n",
    "                    if True, applies 1x1 CONV layer to the shortcut path.\n",
    "    stride      -- integer, strides for the convolutional layer\n",
    "\n",
    "    Returns:\n",
    "    X           -- output of the identity block, tensor of shape (height, width, channels)\n",
    "    \"\"\"\n",
    "\n",
    "    # Retrieve Filters\n",
    "    F1, F2, F3 = filters\n",
    "\n",
    "    # Save the input value. We will need this later to add back to the main path.\n",
    "    X_shortcut = X\n",
    "\n",
    "    if reduce:\n",
    "        # if we are to reduce the spatial size, apply a 1x1 CONV layer to the shortcut path\n",
    "        X = Conv2D(\n",
    "            filters=F1,\n",
    "            kernel_size=(1, 1),\n",
    "            strides=(stride, stride),\n",
    "            padding=\"valid\",\n",
    "            kernel_initializer=\"he_normal\",\n",
    "        )(X)\n",
    "        X = BatchNormalization(axis=3)(X)\n",
    "        X = Activation(\"relu\")(X)\n",
    "\n",
    "        X_shortcut = Conv2D(\n",
    "            filters=F3,\n",
    "            kernel_size=(1, 1),\n",
    "            strides=(stride, stride),\n",
    "            padding=\"valid\",\n",
    "            kernel_initializer=\"he_normal\",\n",
    "        )(X_shortcut)\n",
    "        X_shortcut = BatchNormalization(axis=3)(X_shortcut)\n",
    "    else:\n",
    "        # First component of main path\n",
    "        X = Conv2D(\n",
    "            filters=F1,\n",
    "            kernel_size=(1, 1),\n",
    "            strides=(1, 1),\n",
    "            padding=\"valid\",\n",
    "            kernel_initializer=\"he_normal\",\n",
    "        )(X)\n",
    "        X = BatchNormalization(axis=3)(X)\n",
    "        X = Activation(\"relu\")(X)\n",
    "\n",
    "    # Second component of main path\n",
    "    X = Conv2D(\n",
    "        filters=F2,\n",
    "        kernel_size=(kernel_size, kernel_size),\n",
    "        strides=(1, 1),\n",
    "        padding=\"same\",\n",
    "        kernel_initializer=\"he_normal\",\n",
    "    )(X)\n",
    "    X = BatchNormalization(axis=3)(X)\n",
    "    X = Activation(\"relu\")(X)\n",
    "\n",
    "    # Third component of main path\n",
    "    X = Conv2D(\n",
    "        filters=F3,\n",
    "        kernel_size=(1, 1),\n",
    "        strides=(1, 1),\n",
    "        padding=\"valid\",\n",
    "        kernel_initializer=\"he_normal\",\n",
    "    )(X)\n",
    "    X = BatchNormalization(axis=3)(X)\n",
    "\n",
    "    # Final step: Add shortcut value to main path, and pass it through a ReLU activation\n",
    "    X = Add()([X, X_shortcut])\n",
    "    X = Activation(\"relu\")(X)\n",
    "\n",
    "    return X"
   ]
  },
  {
   "cell_type": "code",
   "execution_count": 56,
   "metadata": {},
   "outputs": [],
   "source": [
    "def ResNet_50(input_shape, classes):\n",
    "    \"\"\"\n",
    "    Arguments:\n",
    "    input_shape -- tuple shape of the images of the dataset\n",
    "    classes -- integer, number of classes\n",
    "\n",
    "    Returns:\n",
    "    model -- a Model() instance in Keras\n",
    "    \"\"\"\n",
    "\n",
    "    # Define the input as a tensor with shape input_shape\n",
    "    X_input = Input(input_shape)\n",
    "\n",
    "    # Block 1\n",
    "    X = Conv2D(64, (7, 7), strides=(2, 2), kernel_initializer=\"he_normal\")(X_input)\n",
    "    X = BatchNormalization(axis=3)(X)\n",
    "    X = Activation(\"relu\")(X)\n",
    "    X = MaxPooling2D((3, 3), strides=(2, 2))(X)\n",
    "\n",
    "    # Block 2\n",
    "    X = residual_block(X, 3, [64, 64, 256], reduce=True, stride=1)\n",
    "    X = residual_block(X, 3, [64, 64, 256])\n",
    "    X = residual_block(X, 3, [64, 64, 256])\n",
    "\n",
    "    # Block 3\n",
    "    X = residual_block(X, 3, [128, 128, 512], reduce=True, stride=2)\n",
    "    X = residual_block(X, 3, [128, 128, 512])\n",
    "    X = residual_block(X, 3, [128, 128, 512])\n",
    "    X = residual_block(X, 3, [128, 128, 512])\n",
    "\n",
    "    # Block 4\n",
    "    X = residual_block(X, 3, [256, 256, 1024], reduce=True, stride=2)\n",
    "    X = residual_block(X, 3, [256, 256, 1024])\n",
    "    X = residual_block(X, 3, [256, 256, 1024])\n",
    "    X = residual_block(X, 3, [256, 256, 1024])\n",
    "    X = residual_block(X, 3, [256, 256, 1024])\n",
    "    X = residual_block(X, 3, [256, 256, 1024])\n",
    "\n",
    "    # Block 5\n",
    "    X = residual_block(X, 3, [512, 512, 2048], reduce=True, stride=2)\n",
    "    X = residual_block(X, 3, [512, 512, 2048])\n",
    "    X = residual_block(X, 3, [512, 512, 2048])\n",
    "\n",
    "    # Global Average Pooling to reduce spatial dimensions\n",
    "    X = GlobalAveragePooling2D()(X)\n",
    "\n",
    "    # Fully Connected Layer for classification\n",
    "    X = Dense(classes, activation=\"softmax\")(X)\n",
    "\n",
    "    # Create the model\n",
    "    model = Model(inputs=X_input, outputs=X, name=\"ResNet50\")\n",
    "\n",
    "    return model"
   ]
  },
  {
   "cell_type": "code",
   "execution_count": 57,
   "metadata": {},
   "outputs": [],
   "source": [
    "def Modified_ResNet50(input_shape, classes):\n",
    "    \"\"\"\n",
    "    Arguments:\n",
    "    input_shape -- tuple shape of the images of the dataset\n",
    "    classes -- integer, number of classes\n",
    "\n",
    "    Returns:\n",
    "    model -- a Model() instance in Keras\n",
    "    \"\"\"\n",
    "\n",
    "    # Define the input as a tensor with shape input_shape\n",
    "    X_input = Input(input_shape)\n",
    "\n",
    "    # Stage 1\n",
    "    X = Conv2D(64, (7, 7), strides=(2, 2), kernel_initializer=\"he_normal\")(X_input)\n",
    "    X = BatchNormalization(axis=3)(X)\n",
    "    X = Activation(\"relu\")(X)\n",
    "    X = MaxPooling2D((3, 3), strides=(2, 2))(X)\n",
    "\n",
    "    # Stage 2\n",
    "    X = residual_block(X, 3, [64, 64, 256], reduce=True, stride=1)\n",
    "    X = residual_block(X, 3, [64, 64, 256])\n",
    "    X = residual_block(X, 3, [64, 64, 256])\n",
    "\n",
    "    # Stage 3\n",
    "    X = residual_block(X, 3, [128, 128, 512], reduce=True, stride=2)\n",
    "    X = residual_block(X, 3, [128, 128, 512])\n",
    "    X = residual_block(X, 3, [128, 128, 512])\n",
    "    X = residual_block(X, 3, [128, 128, 512])\n",
    "\n",
    "    # Stage 4\n",
    "    X = residual_block(X, 3, [256, 256, 1024], reduce=True, stride=2)\n",
    "    X = residual_block(X, 3, [256, 256, 1024])\n",
    "    X = residual_block(X, 3, [256, 256, 1024])\n",
    "    X = residual_block(X, 3, [256, 256, 1024])\n",
    "    X = residual_block(X, 3, [256, 256, 1024])\n",
    "    X = residual_block(X, 3, [256, 256, 1024])\n",
    "\n",
    "    # Stage 5\n",
    "    X = residual_block(X, 3, [512, 512, 2048], reduce=True, stride=2)\n",
    "    X = residual_block(X, 3, [512, 512, 2048])\n",
    "    X = residual_block(X, 3, [512, 512, 2048])\n",
    "\n",
    "    # Global Average Pooling to reduce spatial dimensions\n",
    "    X = GlobalAveragePooling2D()(X)\n",
    "\n",
    "    # Add Dropout to prevent overfitting\n",
    "    X = Dropout(0.5)(X)\n",
    "\n",
    "    # Fully Connected Layer for classification\n",
    "    X = Dense(classes, activation=\"softmax\")(X)\n",
    "\n",
    "    # Create the model\n",
    "    model = Model(inputs=X_input, outputs=X, name=\"Modified_ResNet50\")\n",
    "\n",
    "    return model"
   ]
  },
  {
   "cell_type": "code",
   "execution_count": 58,
   "metadata": {},
   "outputs": [],
   "source": [
    "# Define the shape of the input images and number of classes\n",
    "input_shape = (84, 84, 3)\n",
    "num_classes = 10\n",
    "\n",
    "# Initialize the modified ResNet50 model with the specified parameters\n",
    "modified_resnet50_model = Modified_ResNet50(\n",
    "    input_shape=input_shape, classes=num_classes\n",
    ")"
   ]
  },
  {
   "cell_type": "code",
   "execution_count": 59,
   "metadata": {},
   "outputs": [
    {
     "name": "stdout",
     "output_type": "stream",
     "text": [
      "You must install pydot (`pip install pydot`) for `plot_model` to work.\n"
     ]
    }
   ],
   "source": [
    "plot_model(modified_resnet50_model, show_shapes=True, show_layer_names=False, dpi=120)"
   ]
  },
  {
   "cell_type": "code",
   "execution_count": 60,
   "metadata": {},
   "outputs": [],
   "source": [
    "modified_resnet50_model.compile(\n",
    "    optimizer=\"adam\", loss=\"categorical_crossentropy\", metrics=[\"accuracy\"]\n",
    ")"
   ]
  },
  {
   "cell_type": "code",
   "execution_count": 61,
   "metadata": {},
   "outputs": [],
   "source": [
    "# Add ReduceLROnPlateau callback\n",
    "reduce_lr = ReduceLROnPlateau(\n",
    "    monitor=\"val_loss\", factor=0.5, patience=15, min_lr=0.00001\n",
    ")\n",
    "\n",
    "# Add EarlyStopping callback\n",
    "early_stopping = EarlyStopping(\n",
    "    monitor=\"val_loss\", mode=\"min\", patience=50, restore_best_weights=True, verbose=1\n",
    ")"
   ]
  },
  {
   "cell_type": "code",
   "execution_count": 62,
   "metadata": {},
   "outputs": [
    {
     "name": "stdout",
     "output_type": "stream",
     "text": [
      "Detected 10 classes.\n"
     ]
    }
   ],
   "source": [
    "num_classes = len(train_generator.class_indices)  # Auto-detect class count\n",
    "print(f\"Detected {num_classes} classes.\")"
   ]
  },
  {
   "cell_type": "code",
   "execution_count": null,
   "metadata": {},
   "outputs": [
    {
     "name": "stdout",
     "output_type": "stream",
     "text": [
      "Epoch 1/200\n",
      "\u001b[1m728/728\u001b[0m \u001b[32m━━━━━━━━━━━━━━━━━━━━\u001b[0m\u001b[37m\u001b[0m \u001b[1m435s\u001b[0m 555ms/step - accuracy: 0.3323 - loss: 2.7429 - val_accuracy: 0.2598 - val_loss: 2.8554 - learning_rate: 0.0010\n",
      "Epoch 2/200\n",
      "\u001b[1m728/728\u001b[0m \u001b[32m━━━━━━━━━━━━━━━━━━━━\u001b[0m\u001b[37m\u001b[0m \u001b[1m393s\u001b[0m 540ms/step - accuracy: 0.4808 - loss: 1.6393 - val_accuracy: 0.3158 - val_loss: 5.5600 - learning_rate: 0.0010\n",
      "Epoch 3/200\n",
      "\u001b[1m728/728\u001b[0m \u001b[32m━━━━━━━━━━━━━━━━━━━━\u001b[0m\u001b[37m\u001b[0m \u001b[1m397s\u001b[0m 546ms/step - accuracy: 0.4500 - loss: 1.8064 - val_accuracy: 0.4319 - val_loss: 1.7530 - learning_rate: 0.0010\n",
      "Epoch 4/200\n",
      "\u001b[1m728/728\u001b[0m \u001b[32m━━━━━━━━━━━━━━━━━━━━\u001b[0m\u001b[37m\u001b[0m \u001b[1m395s\u001b[0m 543ms/step - accuracy: 0.4695 - loss: 1.7066 - val_accuracy: 0.5125 - val_loss: 1.9334 - learning_rate: 0.0010\n",
      "Epoch 5/200\n",
      "\u001b[1m728/728\u001b[0m \u001b[32m━━━━━━━━━━━━━━━━━━━━\u001b[0m\u001b[37m\u001b[0m \u001b[1m391s\u001b[0m 537ms/step - accuracy: 0.4618 - loss: 1.7390 - val_accuracy: 0.3386 - val_loss: 12.2969 - learning_rate: 0.0010\n",
      "Epoch 6/200\n",
      "\u001b[1m728/728\u001b[0m \u001b[32m━━━━━━━━━━━━━━━━━━━━\u001b[0m\u001b[37m\u001b[0m \u001b[1m398s\u001b[0m 547ms/step - accuracy: 0.5153 - loss: 1.4960 - val_accuracy: 0.4437 - val_loss: 1.8541 - learning_rate: 0.0010\n",
      "Epoch 7/200\n",
      "\u001b[1m728/728\u001b[0m \u001b[32m━━━━━━━━━━━━━━━━━━━━\u001b[0m\u001b[37m\u001b[0m \u001b[1m395s\u001b[0m 543ms/step - accuracy: 0.5019 - loss: 1.5667 - val_accuracy: 0.4887 - val_loss: 5.2965 - learning_rate: 0.0010\n",
      "Epoch 8/200\n",
      "\u001b[1m728/728\u001b[0m \u001b[32m━━━━━━━━━━━━━━━━━━━━\u001b[0m\u001b[37m\u001b[0m \u001b[1m401s\u001b[0m 551ms/step - accuracy: 0.5201 - loss: 1.5077 - val_accuracy: 0.5551 - val_loss: 1.2928 - learning_rate: 0.0010\n",
      "Epoch 9/200\n",
      "\u001b[1m161/728\u001b[0m \u001b[32m━━━━\u001b[0m\u001b[37m━━━━━━━━━━━━━━━━\u001b[0m \u001b[1m4:46\u001b[0m 506ms/step - accuracy: 0.5293 - loss: 1.4650"
     ]
    }
   ],
   "source": [
    "# Total number of epochs\n",
    "num_epochs = 200\n",
    "\n",
    "# Train the model\n",
    "history = modified_resnet50_model.fit(\n",
    "    train_generator,\n",
    "    steps_per_epoch=len(train_generator),\n",
    "    epochs=num_epochs,\n",
    "    validation_data=test_generator,\n",
    "    validation_steps=len(test_generator),\n",
    "    callbacks=[reduce_lr, early_stopping],\n",
    ")"
   ]
  },
  {
   "cell_type": "code",
   "execution_count": null,
   "metadata": {},
   "outputs": [],
   "source": [
    "test_loss, test_accuracy = modified_resnet50_model.evaluate(test_generator)\n",
    "print(f\"Test accuracy : {test_accuracy:.2f}\")"
   ]
  }
 ],
 "metadata": {
  "kernelspec": {
   "display_name": "base",
   "language": "python",
   "name": "python3"
  },
  "language_info": {
   "codemirror_mode": {
    "name": "ipython",
    "version": 3
   },
   "file_extension": ".py",
   "mimetype": "text/x-python",
   "name": "python",
   "nbconvert_exporter": "python",
   "pygments_lexer": "ipython3",
   "version": "3.12.7"
  }
 },
 "nbformat": 4,
 "nbformat_minor": 2
}
