{
 "cells": [
  {
   "cell_type": "code",
   "execution_count": 16,
   "metadata": {},
   "outputs": [],
   "source": [
    "import os\n",
    "import shutil\n",
    "import random"
   ]
  },
  {
   "cell_type": "code",
   "execution_count": 17,
   "metadata": {},
   "outputs": [],
   "source": [
    "dataset_path = \"class/\"\n",
    "train_path = \"dataset/train/\"\n",
    "test_path = \"dataset/test/\"\n",
    "split_ratio = 0.7"
   ]
  },
  {
   "cell_type": "code",
   "execution_count": 18,
   "metadata": {},
   "outputs": [],
   "source": [
    "os.makedirs(train_path, exist_ok=True)\n",
    "os.makedirs(test_path, exist_ok=True)"
   ]
  },
  {
   "cell_type": "code",
   "execution_count": null,
   "metadata": {},
   "outputs": [
    {
     "name": "stdout",
     "output_type": "stream",
     "text": [
      "✅ battery: 685 images moved to train/, 294 images moved to test/\n",
      "✅ biological: 724 images moved to train/, 311 images moved to test/\n",
      "✅ cardboard: 739 images moved to train/, 318 images moved to test/\n",
      "✅ clothes: 3700 images moved to train/, 1586 images moved to test/\n",
      "✅ glass: 1545 images moved to train/, 663 images moved to test/\n",
      "✅ metal: 672 images moved to train/, 288 images moved to test/\n",
      "✅ paper: 900 images moved to train/, 387 images moved to test/\n",
      "✅ plastic: 735 images moved to train/, 315 images moved to test/\n",
      "✅ shoes: 1404 images moved to train/, 603 images moved to test/\n",
      "✅ trash: 539 images moved to train/, 232 images moved to test/\n",
      "\n",
      "🎯 Dataset split complete! Check 'train/' and 'test/' folders.\n"
     ]
    }
   ],
   "source": [
    "classes = [\n",
    "    cls\n",
    "    for cls in os.listdir(dataset_path)\n",
    "    if os.path.isdir(os.path.join(dataset_path, cls))\n",
    "]\n",
    "\n",
    "for cls in classes:\n",
    "    class_folder = os.path.join(dataset_path, cls)\n",
    "    images = [\n",
    "        f for f in os.listdir(class_folder) if f.endswith((\".jpg\", \".png\", \".jpeg\"))\n",
    "    ]\n",
    "    random.shuffle(images)\n",
    "\n",
    "    # Split dataset\n",
    "    split_index = int(len(images) * split_ratio)\n",
    "    train_images = images[:split_index]\n",
    "    test_images = images[split_index:]\n",
    "\n",
    "    # Create class folders inside train and test\n",
    "    os.makedirs(os.path.join(train_path, cls), exist_ok=True)\n",
    "    os.makedirs(os.path.join(test_path, cls), exist_ok=True)\n",
    "\n",
    "    # Move images to train folder\n",
    "    for img in train_images:\n",
    "        shutil.move(os.path.join(class_folder, img), os.path.join(train_path, cls, img))\n",
    "\n",
    "    # Move images to test folder\n",
    "    for img in test_images:\n",
    "        shutil.move(os.path.join(class_folder, img), os.path.join(test_path, cls, img))\n",
    "\n",
    "    print(\n",
    "        f\" {cls}: {len(train_images)} images moved to train/, {len(test_images)} images moved to test/\"\n",
    "    )\n",
    "\n",
    "print(\"\\n Dataset split complete! Check 'train/' and 'test/' folders.\")"
   ]
  },
  {
   "cell_type": "code",
   "execution_count": null,
   "metadata": {},
   "outputs": [],
   "source": []
  }
 ],
 "metadata": {
  "kernelspec": {
   "display_name": "Python 3",
   "language": "python",
   "name": "python3"
  },
  "language_info": {
   "codemirror_mode": {
    "name": "ipython",
    "version": 3
   },
   "file_extension": ".py",
   "mimetype": "text/x-python",
   "name": "python",
   "nbconvert_exporter": "python",
   "pygments_lexer": "ipython3",
   "version": "3.12.2"
  }
 },
 "nbformat": 4,
 "nbformat_minor": 2
}
